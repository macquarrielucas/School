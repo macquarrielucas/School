{
 "cells": [
  {
   "cell_type": "code",
   "execution_count": 3,
   "metadata": {},
   "outputs": [],
   "source": [
    "import numpy as np\n",
    "from scipy.integrate import quad"
   ]
  },
  {
   "cell_type": "markdown",
   "metadata": {},
   "source": [
    "We need to integrate \n",
    "$$\n",
    "\\begin{align*}\n",
    "    I_1 &= \\int_{-1}^1 e^{x^2}\\ln(2-x)dx \\\\\n",
    "    I_2 &= \\int_1^3 \\frac{1}{\\sqrt{1+x^4}}dx\n",
    "\\end{align*}\n",
    "$$\n",
    "over 4 points Gaussian Quadrature and the composite 2 point Gaussian quadrature with 2 subintervals. \n"
   ]
  },
  {
   "cell_type": "markdown",
   "metadata": {},
   "source": [
    "# I_1\n",
    "\n",
    "To approximate $I_1$ I'll use the Legendre polynomials $L_n(x)$ as they already match the intervals. Since we'll use $4$ point quadrature, we'll need to evaluate $f_1(x) = e^{x^2}\\ln(2-x)$ at the zeros of $L_4(x)$. Recall that they are given in the lecture notes as \n",
    "$$x_4 = -x_1 = 0.861 \\ 136 \\ 3116, \\quad x_3=-x_2 = 0.339 \\ 981 \\ 0436$$"
   ]
  },
  {
   "cell_type": "code",
   "execution_count": 4,
   "metadata": {},
   "outputs": [],
   "source": [
    "zeros = [-0.8611363116, \n",
    "         -0.3399810435,\n",
    "         0.3399810435,\n",
    "         0.8611363116,]"
   ]
  },
  {
   "cell_type": "markdown",
   "metadata": {},
   "source": [
    "and the weights are given by \n",
    "$$w_1=w_4 =0.347 \\ 854 \\ 8451, w_2=w_3=0.652 \\ 145 \\ 1549 $$"
   ]
  },
  {
   "cell_type": "code",
   "execution_count": 5,
   "metadata": {},
   "outputs": [],
   "source": [
    "weights = [0.3478548451,\n",
    "          0.6521451549,\n",
    "          0.6521451549,\n",
    "          0.3478548451,]"
   ]
  },
  {
   "cell_type": "markdown",
   "metadata": {},
   "source": [
    "Finally we need to evaluate $f_1(x)$ at the zeros"
   ]
  },
  {
   "cell_type": "code",
   "execution_count": 7,
   "metadata": {},
   "outputs": [],
   "source": [
    "def f1(x):\n",
    "    return np.exp(x**2)*np.log(2-x)\n",
    "points = [f1(xi) for xi in zeros]"
   ]
  },
  {
   "cell_type": "markdown",
   "metadata": {},
   "source": [
    "Finally approximate the integral as \n",
    "$$\\sum_{i=1}^n w_i \\cdot f(x_i)$$"
   ]
  },
  {
   "cell_type": "code",
   "execution_count": 12,
   "metadata": {},
   "outputs": [
    {
     "name": "stdout",
     "output_type": "stream",
     "text": [
      "Quadrature      = 1.8559447713840982\n",
      "Wolfram's answer= 1.85572\n"
     ]
    }
   ],
   "source": [
    "I1 = np.dot(weights, points)\n",
    "print(\"Quadrature      =\", I1)\n",
    "wolfram = 1.85572\n",
    "print(\"Wolfram's answer=\", wolfram)"
   ]
  },
  {
   "cell_type": "markdown",
   "metadata": {},
   "source": [
    "# $I_2$ \n",
    "\n",
    "This part is more complicated. Since the bounds of $I_2$ is $[1,3]$, we should first split the integral into two parts (since we are doing 2 subintervals) then perform a change of variables such that the integrals are over $[-1,1]$. Denote $f_2(x) = \\frac{1}{\\sqrt{1+x^4}}$. Then \n",
    "$$\\begin{align*}\n",
    "\\int_{1}^2 f(x)dx &= \\int_{-\\frac12}^{\\frac12} f(x+\\frac32 )dx \\\\\n",
    "&= \\frac12 \\int_{-1}^1 f(\\frac12 x + \\frac32 )dx \n",
    "\\end{align*}$$\n",
    "and\n",
    "$$\\begin{align*}\n",
    "\\int_{2}^3 f(x)dx &= \\int_{-\\frac12}^{\\frac12} f(x+\\frac52 )dx \\\\\n",
    "&= \\frac12 \\int_{-1}^1 f(\\frac12 x + \\frac52 )dx \n",
    "\\end{align*}.$$\n",
    "\n",
    "The weights and zeros of the $L_2(x)$ are \n",
    "$$w_1 = w_2 = 1$$\n",
    "and \n",
    "$$x_1=x_2= 0.577\\  350 \\ 2692$$\n",
    "so calculating the quadrature is simply"
   ]
  },
  {
   "cell_type": "code",
   "execution_count": 14,
   "metadata": {},
   "outputs": [
    {
     "name": "stdout",
     "output_type": "stream",
     "text": [
      "Quadrature      = 0.5946956791823543\n",
      "Wolfram's answer= 0.594113\n"
     ]
    }
   ],
   "source": [
    "zeros = [-0.5773502692, \n",
    "         0.5773502692,]\n",
    "weights = [1.0, 1.0]\n",
    "\n",
    "def f2(x):\n",
    "    return 1/np.sqrt(1+x**4) \n",
    "\n",
    "int1_points = [f2(xi*0.5 +1.5) for xi in zeros]\n",
    "int2_points = [f2(xi*0.5 +2.5) for xi in zeros]\n",
    "\n",
    "I2 = 0.5 * np.dot(weights, int1_points) + 0.5 * np.dot(weights, int2_points)\n",
    "\n",
    "print(\"Quadrature      =\", I2)\n",
    "wolfram = 0.594113\n",
    "print(\"Wolfram's answer=\", wolfram)"
   ]
  }
 ],
 "metadata": {
  "kernelspec": {
   "display_name": "usr",
   "language": "python",
   "name": "python3"
  },
  "language_info": {
   "codemirror_mode": {
    "name": "ipython",
    "version": 3
   },
   "file_extension": ".py",
   "mimetype": "text/x-python",
   "name": "python",
   "nbconvert_exporter": "python",
   "pygments_lexer": "ipython3",
   "version": "3.13.1"
  }
 },
 "nbformat": 4,
 "nbformat_minor": 2
}
