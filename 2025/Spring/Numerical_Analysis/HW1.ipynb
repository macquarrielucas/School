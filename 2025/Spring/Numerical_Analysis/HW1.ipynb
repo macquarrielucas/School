{
 "cells": [
  {
   "cell_type": "code",
   "execution_count": 9,
   "metadata": {},
   "outputs": [
    {
     "name": "stdout",
     "output_type": "stream",
     "text": [
      "Interpolating Polynomial before simplification: -1.151292546497023(-12 + x)*(11 - x) + 2.3978952727983707(12 - x)*(-10 + x) + 1.2424533248940002(-10 + x)*(-11 + x)\n",
      "Simplified Polynomial: -1.151292546497023(-12 + x)*(11 - x) + 2.3978952727983707(12 - x)*(-10 + x) + 1.2424533248940002(-10 + x)*(-11 + x)\n"
     ]
    }
   ],
   "source": [
    "using Symbolics\n",
    "\n",
    "# Define the variables\n",
    "@variables x\n",
    "\n",
    "# Sample points for interpolation\n",
    "points = [(10, log(10)), (11, log(11)), (12, log(12))]\n",
    "\n",
    "# Function to compute the Lagrange basis polynomials\n",
    "function lagrange_basis(points, i, x)\n",
    "    xi, _ = points[i]\n",
    "    prod = 1\n",
    "    for (j, (xj, _)) in enumerate(points)\n",
    "        if j != i\n",
    "            prod *= (x - xj) / (xi - xj)\n",
    "        end\n",
    "    end\n",
    "    return prod\n",
    "end\n",
    "\n",
    "# Function to compute the Lagrange interpolating polynomial\n",
    "function lagrange_interpolation(points, x)\n",
    "    poly = 0\n",
    "    for i in 1:length(points)\n",
    "        _, yi = points[i]\n",
    "        poly += yi * lagrange_basis(points, i, x)\n",
    "    end\n",
    "    return poly\n",
    "end\n",
    "\n",
    "# Compute the interpolating polynomial\n",
    "poly = lagrange_interpolation(points, x)\n",
    "println(\"Interpolating Polynomial before simplification: \", poly)\n",
    "\n",
    "# Simplify the polynomial using Symbolics\n",
    "simplified_poly = simplify(poly)\n",
    "println(\"Simplified Polynomial: \", simplified_poly)\n"
   ]
  },
  {
   "cell_type": "code",
   "execution_count": 10,
   "metadata": {},
   "outputs": [
    {
     "data": {
      "text/latex": [
       "$$ \\begin{equation}\n",
       "0.89305 + 0.18245 x - 0.0041494 x^{2}\n",
       "\\end{equation}\n",
       " $$"
      ],
      "text/plain": [
       "0.8930491401425797 + 0.18244760935861848x - 0.004149401407347542(x^2)"
      ]
     },
     "metadata": {},
     "output_type": "display_data"
    }
   ],
   "source": [
    "expand(poly)"
   ]
  },
  {
   "cell_type": "code",
   "execution_count": 20,
   "metadata": {},
   "outputs": [
    {
     "name": "stdout",
     "output_type": "stream",
     "text": [
      "The third derivative of ln(x) is: 2 / (x^3)\n"
     ]
    }
   ],
   "source": [
    "# Define the function ln(x)\n",
    "f = log(x)\n",
    "\n",
    "D= Differential(x)\n",
    "# Compute the first derivative\n",
    "f_3=D(D(D(f)))\n",
    "\n",
    "# Print the third derivative\n",
    "println(\"The third derivative of ln(x) is: \", simplify(expand_derivatives(D(D(D(f))))))\n"
   ]
  },
  {
   "cell_type": "code",
   "execution_count": null,
   "metadata": {},
   "outputs": [],
   "source": [
    "xbar = 11.1\n",
    "x1=10\n",
    "x2=11\n",
    "x3=12 \n",
    "\n",
    "simplify((11.1-10)*())"
   ]
  }
 ],
 "metadata": {
  "kernelspec": {
   "display_name": "Julia 1.11.3",
   "language": "julia",
   "name": "julia-1.11"
  },
  "language_info": {
   "file_extension": ".jl",
   "mimetype": "application/julia",
   "name": "julia",
   "version": "1.11.3"
  }
 },
 "nbformat": 4,
 "nbformat_minor": 2
}
